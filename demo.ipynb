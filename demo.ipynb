{
 "cells": [
  {
   "cell_type": "markdown",
   "metadata": {},
   "source": [
    "# PerfCounters Usage\n",
    "\n",
    "\n",
    "This notebook showcases how to use the [PerfCounters package](https://github.com/ebursztein/perfcounters).\n",
    "\n",
    "PerfCounters offers to classes depending on what you need to measure:\n",
    "- `TimeCounters()` are used if you want to track timings\n",
    "- `ValueCounters()` are used if you want to track values.\n",
    "\n",
    "You can use both at the same time and they have a fairly similar API."
   ]
  },
  {
   "cell_type": "markdown",
   "metadata": {},
   "source": [
    "## Time measurements"
   ]
  },
  {
   "cell_type": "markdown",
   "metadata": {},
   "source": [
    "### Basic usage\n",
    "Here is a short example that demonstrate how to track timing by comparing \n",
    "the time it takes to use `random.random` vs `random.randint`"
   ]
  },
  {
   "cell_type": "code",
   "execution_count": 1,
   "metadata": {},
   "outputs": [
    {
     "name": "stdout",
     "output_type": "stream",
     "text": [
      "╭─────────┬────────────╮\n",
      "│ Name    │   Time (s) │\n",
      "├─────────┼────────────┤\n",
      "│ random  │    0.00583 │\n",
      "│ randint │    0.25348 │\n",
      "╰─────────┴────────────╯\n",
      "random value: 5.83\n"
     ]
    }
   ],
   "source": [
    "import random\n",
    "from perfcounters import TimeCounters\n",
    "\n",
    "cnts = TimeCounters()  # init the counter collection.\n",
    "\n",
    "cnts.start('random')  # start a timing counter called random.\n",
    "for x in range(100000):\n",
    "    int(random.random())\n",
    "cnts.stop('random')  # stop the random counter\n",
    "\n",
    "cnts.start('randint')  # start a timing counter called randint.\n",
    "for x in range(1000000):\n",
    "    random.randint(0, 1)\n",
    "cnts.stop('randint')  # stop the randint counter.\n",
    "\n",
    "cnts.report(rounding=5) # report print all counter values in nicely formated tables.\n",
    "\n",
    "random_val = cnts.get('random', format='ms')   # get the value of the counter in ms\n",
    "print(f'random value: {random_val}')"
   ]
  },
  {
   "cell_type": "markdown",
   "metadata": {},
   "source": [
    "You can also export the results in various formats including json (`to_json()`)\n",
    "), Markdown (`to_md()`), HTML (`to_html()`). For example to export the counters serialized in json you can simply use  the `to_json()` function as follow: "
   ]
  },
  {
   "cell_type": "code",
   "execution_count": 2,
   "metadata": {},
   "outputs": [
    {
     "data": {
      "text/plain": [
       "'{\"random\": 0.006, \"randint\": 0.253}'"
      ]
     },
     "execution_count": 2,
     "metadata": {},
     "output_type": "execute_result"
    }
   ],
   "source": [
    "cnts.to_json(rounding=3)"
   ]
  },
  {
   "cell_type": "markdown",
   "metadata": {},
   "source": [
    "### Measuring laps\n",
    "Timing counters can also be used to track how long each iteration of a loop is taking via `lap()`. Here is a short example"
   ]
  },
  {
   "cell_type": "code",
   "execution_count": 3,
   "metadata": {},
   "outputs": [
    {
     "name": "stdout",
     "output_type": "stream",
     "text": [
      "╭─────────────┬────────────╮\n",
      "│ Name        │   Time (s) │\n",
      "├─────────────┼────────────┤\n",
      "│ random loop │       1.41 │\n",
      "╰─────────────┴────────────╯\n",
      "laps: [0.68, 0.38, 0.35, -9.989738464355469e-05]\n",
      "╭───────┬──────────────╮\n",
      "│   Lap │        Value │\n",
      "├───────┼──────────────┤\n",
      "│     0 │  0.68        │\n",
      "│     1 │  0.38        │\n",
      "│     2 │  0.35        │\n",
      "│     3 │ -9.98974e-05 │\n",
      "╰───────┴──────────────╯\n",
      "laps json {\"0\": 0.68, \"1\": 0.38, \"2\": 0.35, \"3\": -9.989738464355469e-05}\n"
     ]
    }
   ],
   "source": [
    "import time\n",
    "from perfcounters import TimeCounters\n",
    "cnts = TimeCounters()  # declaring our counters\n",
    "\n",
    "cnts.start('random loop') # create counter\n",
    "for _ in range(3):\n",
    "    time.sleep(round(random.random(), 2))\n",
    "    cnts.lap('random loop') # record lap time\n",
    "cnts.stop('random loop')\n",
    "cnts.stop_all()\n",
    "\n",
    "cnts.report()  # we don't need to stop the counter. Report do it\n",
    "laps = cnts.get_laps('random loop')  # get the laps values as a list\n",
    "print(f'laps: {laps}')\n",
    "\n",
    "# similar to counters you can pretty print laps\n",
    "cnts.report_laps('random loop')\n",
    "\n",
    "# and export them to various format\n",
    "lap_json = cnts.laps_to_json('random loop')\n",
    "print(f'laps json {lap_json}')\n"
   ]
  },
  {
   "cell_type": "markdown",
   "metadata": {},
   "source": [
    "As visible in the output above when outputing/returning laps counters `PerfCounters` do report the value of each lap, the cumulative time and statistics about the laps."
   ]
  },
  {
   "cell_type": "markdown",
   "metadata": {},
   "source": [
    "## Values Tracking\n",
    "Value counters are used to track values. They are either directly set to\n",
    "a given value with the `set()` method or can be incremented \n",
    "with the `inc()` method or decremented with `dec()` "
   ]
  },
  {
   "cell_type": "code",
   "execution_count": 5,
   "metadata": {},
   "outputs": [
    {
     "name": "stdout",
     "output_type": "stream",
     "text": [
      "mycounter value: 42\n"
     ]
    }
   ],
   "source": [
    "from perfcounters import ValueCounters\n",
    "cnts = ValueCounters()\n",
    "cnts.set('mycounter', 39)  # set counter value to 39\n",
    "cnts.inc('mycounter', 3)  # increment counter by 3\n",
    "val = cnts.get('mycounter') #  get the value of the counter\n",
    "print('mycounter value:', val)"
   ]
  }
 ],
 "metadata": {
  "kernelspec": {
   "display_name": "Python 3",
   "language": "python",
   "name": "python3"
  },
  "language_info": {
   "codemirror_mode": {
    "name": "ipython",
    "version": 3
   },
   "file_extension": ".py",
   "mimetype": "text/x-python",
   "name": "python",
   "nbconvert_exporter": "python",
   "pygments_lexer": "ipython3",
   "version": "3.10.9"
  }
 },
 "nbformat": 4,
 "nbformat_minor": 2
}
